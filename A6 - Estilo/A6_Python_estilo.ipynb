{
 "cells": [
  {
   "cell_type": "markdown",
   "metadata": {},
   "source": [
    "# Manual sucinto de estilo para Python\n",
    "\n",
    "<hr>\n",
    "\n",
    "Una función bien diseñada ha de ser *correcta*, *eficiente* y *mantenible*. Este último adjetivo asume como primera característica la *legibilidad*. Es decir, el diseño de las funciones y módulos ha de tener en cuenta su escritura de forma *legible*, por uno mismo y por los demás miembros de la comunidad Python.\n",
    "\n",
    "Por lo tanto, la *claridad* es en principio básico. Esto incluye, entre otras cosas, la elección adecuada de identificadores (nemotécnicos) y el uso de expresiones y recursos del lenguaje de forma lo más clara que sea posible, y la documentación del código.\n",
    "\n",
    "Pero además, un programa, un módulo o un script va a ser leído por otros, de manera que conviene adoptar habitos estándar, no innovar un estilo personal distinto de dichos estándares. Estas convenciones ayudan a cada miembro de la comunidad Python a antender con mayor naturalidad y fluidez las piezas de código de los demás.\n",
    "\n",
    "El principal estándar actualmente se denomina `PEP8`, y contiene un buen número de convenciones para la documentación del código. Hay muchas guías disponibles en Internet en distintos idiomas y con un grado variable de detalle. He aquí una recomendable en mi opinión por tener una buena relación legibilidad/tamaño:\n",
    "\n",
    "<br>\n",
    "\n",
    "<center>\n",
    "<a href=\"https://www.python.org/dev/peps/pep-0008/\">PEP 8 -- Style Guide for Python Code</a>\n",
    "</center>\n",
    "\n",
    "En este pequeño documento, damos una pequeña selección de dichas directrices, aceptando que es incompleta, pero útil como una introducción sucinta. En ella he recogido algunas que me han parecido básicas, y lógicamente remito a quien lo lea a completar esta lectura con la de otras guías más completas.\n",
    "\n",
    "Ojalá te resulte útil."
   ]
  },
  {
   "cell_type": "markdown",
   "metadata": {},
   "source": [
    "### Identificadores\n",
    "\n",
    "* Los identificadores deben representar el dato o función representado,\n",
    "  no el tipo de datos en el que se almacenan. Es adecuado, por ejemplo,\n",
    "  `edad` si es esto lo que representa una variable entera,\n",
    "  y no `entero`.\n",
    "  Se evitará usar el identificador `l`, por confundirse con un 1. \n",
    "  En los índices de los bucles, es corriente usar `i`, `j`, `k`.\n",
    "  \n",
    "* Los identificadores se limitarán a usar caracteres ASCII,\n",
    "  es decir, que no se usarán tildes ni eñes en los identificadores.\n",
    "\n",
    "* Es adecuado y recomendable que un identificador tenga varias palabras.\n",
    "  En este caso, hay dos tipos de notaciones:\n",
    "  \n",
    "  - Guiones bajos: `paises_de_europa`\n",
    "  \n",
    "    Esta notación se usa para los identificadores que empiezan con minúscula:\n",
    "    nombres de funciones, variables, módulos, parámetros de funciones.\n",
    "\n",
    "  - Mayúsculas o notación camello: `PaisesDeEuropa`\n",
    "\n",
    "    Esta notación se usa para los identificadores de constantes y de clases."
   ]
  },
  {
   "cell_type": "code",
   "execution_count": 1,
   "metadata": {},
   "outputs": [
    {
     "name": "stdout",
     "output_type": "stream",
     "text": [
      "63.61725123519331\n"
     ]
    }
   ],
   "source": [
    "# Ejemplos:\n",
    "\n",
    "import math\n",
    "PI = math.pi\n",
    "radio = 4.5\n",
    "area_del_circulo = PI * radio**2\n",
    "print(area_del_circulo)"
   ]
  },
  {
   "cell_type": "markdown",
   "metadata": {},
   "source": [
    "### Escritura del código\n",
    "\n",
    "* Adoptar un sangrado de cuatro espacios\n",
    "* Limitar la longitud de las líneas a 79 caracteres\n",
    "* Cuando se requiera rebasar esta longitud...\n",
    "  - Se puede poner una barra invertida\n",
    "* Las relaciones de datos entre paréntesis, corchetes o llaves:\n",
    "  - Se separan con una coma y un espacio\n",
    "  - Se pueden desglosar en líneas; en este caso, el sangrado puede\n",
    "    ponerse a cuatro espacios y también justificado tras el primer delimitador, \n",
    "    y el cierre puede justificarse como los datos o aliearse ya con la línea\n",
    "    que inicó el sangrado."
   ]
  },
  {
   "cell_type": "code",
   "execution_count": 2,
   "metadata": {},
   "outputs": [
    {
     "name": "stdout",
     "output_type": "stream",
     "text": [
      "\n",
      "1\n",
      "22\n",
      "333\n",
      "4444\n",
      "55555\n",
      "666666\n",
      "7777777\n",
      "88888888\n",
      "999999999\n",
      "\n",
      "España SP\n",
      "Francia FR\n",
      "\n",
      "España SP\n",
      "Francia FR\n",
      "Portugal PT\n",
      "Gran Bretaña GB\n",
      "\n",
      "España SP\n",
      "Francia FR\n",
      "Portugal PT\n",
      "Gran Bretaña GB\n"
     ]
    }
   ],
   "source": [
    "# Ejemplos:\n",
    "\n",
    "for i in range(10):\n",
    "    for j in range(i):\n",
    "        print(i, end=\"\")\n",
    "    print()\n",
    "\n",
    "print()\n",
    "\n",
    "for pais, abreviatura in [(\"España\", \"SP\"), (\"Francia\", \"FR\")]:\n",
    "    print(pais, abreviatura)\n",
    "\n",
    "print()\n",
    "\n",
    "for pais, abreviatura in [(\"España\", \"SP\"), (\"Francia\", \"FR\"), \\\n",
    "                          (\"Portugal\", \"PT\"), (\"Gran Bretaña\", \"GB\")]:\n",
    "    print(pais, abreviatura)\n",
    "    \n",
    "print()\n",
    "\n",
    "for pais, abreviatura in [\n",
    "    (\"España\", \"SP\"), (\"Francia\", \"FR\"), \\\n",
    "    (\"Portugal\", \"PT\"), (\"Gran Bretaña\", \"GB\")\n",
    "]:\n",
    "    print(pais, abreviatura)"
   ]
  },
  {
   "cell_type": "markdown",
   "metadata": {},
   "source": [
    "### Comentarios\n",
    "\n",
    "* Los comentarios han de limitarse a usar los caracteres ascii.\n",
    "* Los comentarios se redactarán de forma escueta,\n",
    "  pero serán oraciones completas, empezando con mayúscula y\n",
    "  sin cambiar la notación de los identificadores mencionados.\n",
    "* No se deben incluir comentarios obvios: son molestos\n",
    "  y únicamente perturban la lectura del código\n",
    "* Los comentarios de las funciones y clases se deben organizar\n",
    "  en un `docstring`, incluyendo:\n",
    "  - Una descripción escueta de lo que hace la función (no de cómo lo hace)\n",
    "  - `Parameters`, cada uno con su tipo y una descripción escueta\n",
    "  - `Precondition`, cuando sea necesaria\n",
    "  - `Returns`, incluyendo el tipo y la descripción del objeto devuelto\n",
    "  - `Example` de funcionamiento,\n",
    "    o ejemplos, cuando sea necesario mostrar varias situaciones distintas."
   ]
  },
  {
   "cell_type": "code",
   "execution_count": 3,
   "metadata": {},
   "outputs": [],
   "source": [
    "# Ejemplo:\n",
    "\n",
    "def radius_of_circle(area):\n",
    "    \"\"\"\n",
    "    Given the area of a circle, returns its radius\n",
    "    \n",
    "    Parameters:\n",
    "    -----------\n",
    "    area: float\n",
    "        the area of the circle\n",
    "\n",
    "    Precondition:\n",
    "    -------------\n",
    "    area >= 0\n",
    "\n",
    "    Returns:\n",
    "    --------\n",
    "    float\n",
    "        The radios of the circle \n",
    "        \n",
    "    Example:\n",
    "    --------\n",
    "    >>> radius_of_circle(9.0)\n",
    "    1.692568750643269\n",
    "    \"\"\"\n",
    "    \n",
    "    PI = math.pi\n",
    "    return math.sqrt(area / PI)"
   ]
  },
  {
   "cell_type": "markdown",
   "metadata": {},
   "source": [
    "Una función que no tiene `return` debe documentarlo así:\n",
    "```python\n",
    "\"\"\"\n",
    "Returns:\n",
    "--------\n",
    "NoneType\n",
    "\"\"\"\n",
    "```"
   ]
  },
  {
   "cell_type": "markdown",
   "metadata": {},
   "source": [
    "### Librerías\n",
    "\n",
    "* Deben importarse al inicio de un script, una sola vez, no dentro de las funciones ni justo antes de su uso. Es verdad que casi todos los libros, manuales y apuntes las colocan donde se necesitan. Se hade esto para evidenciar su necesidad y aclarar que se ha de haber realizado la importación, pero esto es principalmente a efectos didácticos. \n",
    "\n",
    "* El orden aconsejado es: primero, las librerías estándar y luego las diseñadas por nosotros mismos, en su caso.\n",
    "\n",
    "* La importación de las librerías se hará en una por línea:"
   ]
  },
  {
   "cell_type": "code",
   "execution_count": 4,
   "metadata": {},
   "outputs": [],
   "source": [
    "import math\n",
    "import matplotlib.pyplot as plt\n",
    "import pandas as pd\n",
    "from collections import defaultdict"
   ]
  },
  {
   "cell_type": "markdown",
   "metadata": {},
   "source": [
    "En la importación de librerías, debe evitarse el uso de comodines (*wildcard*):\n",
    "\n",
    "``` python\n",
    "from here import *\n",
    "```"
   ]
  },
  {
   "cell_type": "markdown",
   "metadata": {},
   "source": [
    "### Espacios y otros detalles\n",
    "\n",
    "* Se dejará un espacio a la izquierda y derecha del operador de asignación.\n",
    "* Se dejará un espacio tras la coma; no antes.\n",
    "* No se separará el nombre de una función y el paréntesis de los parámetros\n",
    "* Cuando intervienen varias operaciones,\n",
    "  los espacios pueden ayudar a leer mejor las fórmulas,\n",
    "  segun la prioridad de las operaciones\n"
   ]
  },
  {
   "cell_type": "code",
   "execution_count": 5,
   "metadata": {},
   "outputs": [
    {
     "name": "stdout",
     "output_type": "stream",
     "text": [
      "62.5\n"
     ]
    }
   ],
   "source": [
    "x, y = 2.5, 5.0\n",
    "z = math.sin(math.pi*5)\n",
    "print(z**4 + 4*x**3)"
   ]
  },
  {
   "cell_type": "markdown",
   "metadata": {},
   "source": [
    "### Comprobación de estilo online\n",
    "\n",
    "Se han desarrollado unas cuantas herramientas que comprueban el estilo de un programa.\n",
    "\n",
    "He aquí una muy sencillita, online, y práctica para empezar:\n",
    "\n",
    "<a href=\"http://pep8online.com/\">PEP8 online</a>\n",
    "\n",
    "A manera de ejercicio, te doy un fragmento de código para que compruebes su estilo en esa herramienta y repares los defectillos que te vaya diciendo."
   ]
  },
  {
   "cell_type": "code",
   "execution_count": 6,
   "metadata": {},
   "outputs": [],
   "source": [
    "def funcion_rara( parametro_primero ,    parametro_segundo,\n",
    "    parametro_tercero ):\n",
    "    \n",
    "  \"\"\"\n",
    "  Devuelve los datos dados, cambiados de orden\n",
    "  \"\"\"\n",
    "    \n",
    "  return parametro_tercero ,parametro_segundo , parametro_primero\n",
    "    "
   ]
  },
  {
   "cell_type": "code",
   "execution_count": 7,
   "metadata": {},
   "outputs": [
    {
     "data": {
      "text/plain": [
       "(4, 3, 2)"
      ]
     },
     "execution_count": 7,
     "metadata": {},
     "output_type": "execute_result"
    }
   ],
   "source": [
    "funcion_rara(2, 3, 4)"
   ]
  },
  {
   "cell_type": "markdown",
   "metadata": {},
   "source": [
    "### Una referencia, entre muchas posibles\n",
    "\n",
    "- PEP 8 en Español – Guía de estilo para el código Python\n",
    "  www.recursospython.com/pep8es.pdf"
   ]
  }
 ],
 "metadata": {
  "kernelspec": {
   "display_name": "Python 3",
   "language": "python",
   "name": "python3"
  },
  "language_info": {
   "codemirror_mode": {
    "name": "ipython",
    "version": 3
   },
   "file_extension": ".py",
   "mimetype": "text/x-python",
   "name": "python",
   "nbconvert_exporter": "python",
   "pygments_lexer": "ipython3",
   "version": "3.8.11"
  }
 },
 "nbformat": 4,
 "nbformat_minor": 1
}
